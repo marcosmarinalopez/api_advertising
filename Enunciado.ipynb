{
 "cells": [
  {
   "attachments": {},
   "cell_type": "markdown",
   "metadata": {},
   "source": [
    "# Ejercicio Flask API\n",
    "Para este ejercicio tendrás que desplegar un modelo de machine learning en una API para su consumo en tu entorno Local. Entrenarás un modelo, lo guardarás entrenado, y desarrollarás una API que permita consumir dicho modelo desde tu LocalHost.\n",
    "\n",
    "**Se presenta el siguiente caso de uso**\n",
    "\n",
    "Una empresa distribuidora de ámbito nacional pretende utilizar un modelo desarrollado por el departamento de data science, con el que consiguen una predicción de las ventas a partir de los gastos en marketing de anuncios en televisión, radio y periódicos. Quieren incorporar estos datos dentro de su página web interna, donde comparten todo tipo de información relativa a resultados de la empresa, ventas, adquisiciones, etc... La web está desarrollada en AngularJS, mientras que el modelo se desarrolló en Python, por lo que precisamos de una interfaz de comunicación entre ambos sistemas.\n",
    "\n",
    "El equipo de desarrollo necesita que implementes un microservicio para que ellos puedan consumir el modelo desde la propia web. El microservicio tiene que cumplir las siguientes características:\n",
    "1. Ofrezca la predicción de ventas a partir de todos los valores de gastos en publicidad.<br>(/api/v1/predict)\n",
    "2. Posibilidad de reentrenar de nuevo el modelo con los posibles nuevos registros que se recojan y que devuelva la métrica de evaluación MSE. (/api/v1/retrain)\n",
    "\n",
    "\n",
    "**NOTAS**: \n",
    "1. Deberás entregarlo en un repositorio de github\n",
    "2. El repositorio github deberá contener todos los archivos necesarios para hacer una despliegue en railway.\n",
    "3. Ojo con la ruta para hacer el load de tu modelo, comprueba cual es la ruta en la que está buscándolo.\n",
    "4. Cuentas con un script de Python (*train.py*) con el código de entrenamiento del modelo ya hecho, puesto que el desarrollo de un modelo de machine learning no es el objetivo del ejercicio, sino el diseño de una API con Flask.\n",
    "\n",
    "**Entregable**: fichero tu_nombre.json con {\"repository\":\"repositorio de tu github\"}"
   ]
  }
 ],
 "metadata": {
  "kernelspec": {
   "display_name": "Python 3.9.7 ('base')",
   "language": "python",
   "name": "python3"
  },
  "language_info": {
   "codemirror_mode": {
    "name": "ipython",
    "version": 3
   },
   "file_extension": ".py",
   "mimetype": "text/x-python",
   "name": "python",
   "nbconvert_exporter": "python",
   "pygments_lexer": "ipython3",
   "version": "3.9.7"
  },
  "orig_nbformat": 4,
  "vscode": {
   "interpreter": {
    "hash": "a62940825390c4fb6d0fa98e018eb2e1591e483b4bca278484486fb09668db57"
   }
  }
 },
 "nbformat": 4,
 "nbformat_minor": 2
}
